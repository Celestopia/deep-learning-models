{
 "cells": [
  {
   "cell_type": "code",
   "execution_count": 1,
   "metadata": {},
   "outputs": [],
   "source": [
    "import numpy as np\n",
    "import matplotlib.pyplot as plt\n",
    "import pandas as pd\n",
    "import torch\n",
    "import torch.nn as nn\n",
    "import torch.optim as optim\n",
    "import time\n",
    "import tqdm\n",
    "import math"
   ]
  },
  {
   "cell_type": "code",
   "execution_count": 2,
   "metadata": {},
   "outputs": [
    {
     "data": {
      "text/plain": [
       "115120"
      ]
     },
     "execution_count": 2,
     "metadata": {},
     "output_type": "execute_result"
    }
   ],
   "source": [
    "from models.RNN import RNN, LSTM, GRU\n",
    "from models.CNN import CNN, TCN\n",
    "from models.MLP import MLP\n",
    "from models.transformer import Transformer, iTransformer, PatchTST\n",
    "from models.Linear import LLinear, DLinear, NLinear\n",
    "from models.stat import Identical, ExponentialMovingAverage, SVR\n",
    "\n",
    "# 超参数\n",
    "num_epochs = 10  # 训练的轮数\n",
    "learning_rate = 0.001 # 学习率\n",
    "num_samples = 10000  # 样本总数\n",
    "input_len = 64  # 输入长度\n",
    "output_len = 16  # 输出长度\n",
    "input_channels = 13  # 输入通道数\n",
    "output_channels = 13  # 输出通道数\n",
    "batch_size = 64  # 批大小\n",
    "\n",
    "# 实例化模型、损失函数、评估函数和优化器\n",
    "MODEL = CNN(input_len=input_len, output_len=output_len, input_channels=input_channels, output_channels=output_channels)\n",
    "loss_func = nn.MSELoss() # MSE，用于拟合\n",
    "metric_func=nn.L1Loss() # MAE，用于评估\n",
    "optimizer = optim.Adam(MODEL.parameters(), lr=learning_rate)\n",
    "sum(p.numel() for p in MODEL.parameters())"
   ]
  },
  {
   "cell_type": "code",
   "execution_count": 3,
   "metadata": {},
   "outputs": [
    {
     "name": "stdout",
     "output_type": "stream",
     "text": [
      "X shape: (10000, 64, 13)\n",
      "Y shape: (10000, 16, 13)\n",
      "Train dataset size: X: (7000, 64, 13); Y: (7000, 16, 13)\n",
      "Val dataset size: X: (1000, 64, 13); Y: (1000, 16, 13)\n",
      "Test dataset size: X: (2000, 64, 13); Y: (2000, 16, 13)\n"
     ]
    }
   ],
   "source": [
    "import mydatasets\n",
    "import random\n",
    "# 加载测试数据集（自己生成的模拟数据）\n",
    "X, Y = mydatasets.load_test_data(id='2',\n",
    "                                input_dim=(num_samples, input_len, input_channels),\n",
    "                                output_dim=(num_samples, output_len, output_channels),\n",
    "                                noise=0.2)\n",
    "print('X shape:', X.shape)\n",
    "print('Y shape:', Y.shape)\n",
    "train_loader, val_loader, test_loader = mydatasets.get_XY_loaders(X, Y, batch_size=batch_size)"
   ]
  },
  {
   "cell_type": "code",
   "execution_count": 4,
   "metadata": {},
   "outputs": [
    {
     "name": "stderr",
     "output_type": "stream",
     "text": [
      " 10%|█         | 1/10 [00:00<00:06,  1.50it/s]"
     ]
    },
    {
     "name": "stdout",
     "output_type": "stream",
     "text": [
      "Epoch [ 1  /10], Time: 0.6680s, Loss: 0.0968, Metric: 0.2105, Val Loss: 0.0405, Val Metric: 0.1606\n"
     ]
    },
    {
     "name": "stderr",
     "output_type": "stream",
     "text": [
      " 20%|██        | 2/10 [00:01<00:04,  1.61it/s]"
     ]
    },
    {
     "name": "stdout",
     "output_type": "stream",
     "text": [
      "Epoch [ 2  /10], Time: 0.5867s, Loss: 0.0404, Metric: 0.1603, Val Loss: 0.0405, Val Metric: 0.1608\n"
     ]
    },
    {
     "name": "stderr",
     "output_type": "stream",
     "text": [
      " 30%|███       | 3/10 [00:01<00:04,  1.60it/s]"
     ]
    },
    {
     "name": "stdout",
     "output_type": "stream",
     "text": [
      "Epoch [ 3  /10], Time: 0.6301s, Loss: 0.0404, Metric: 0.1604, Val Loss: 0.0406, Val Metric: 0.1608\n"
     ]
    },
    {
     "name": "stderr",
     "output_type": "stream",
     "text": [
      " 40%|████      | 4/10 [00:02<00:03,  1.63it/s]"
     ]
    },
    {
     "name": "stdout",
     "output_type": "stream",
     "text": [
      "Epoch [ 4  /10], Time: 0.5972s, Loss: 0.0404, Metric: 0.1604, Val Loss: 0.0406, Val Metric: 0.1608\n"
     ]
    },
    {
     "name": "stderr",
     "output_type": "stream",
     "text": [
      " 50%|█████     | 5/10 [00:03<00:03,  1.63it/s]"
     ]
    },
    {
     "name": "stdout",
     "output_type": "stream",
     "text": [
      "Epoch [ 5  /10], Time: 0.6109s, Loss: 0.0404, Metric: 0.1604, Val Loss: 0.0406, Val Metric: 0.1608\n"
     ]
    },
    {
     "name": "stderr",
     "output_type": "stream",
     "text": [
      " 60%|██████    | 6/10 [00:03<00:02,  1.63it/s]"
     ]
    },
    {
     "name": "stdout",
     "output_type": "stream",
     "text": [
      "Epoch [ 6  /10], Time: 0.6174s, Loss: 0.0404, Metric: 0.1604, Val Loss: 0.0406, Val Metric: 0.1610\n"
     ]
    },
    {
     "name": "stderr",
     "output_type": "stream",
     "text": [
      " 70%|███████   | 7/10 [00:04<00:01,  1.60it/s]"
     ]
    },
    {
     "name": "stdout",
     "output_type": "stream",
     "text": [
      "Epoch [ 7  /10], Time: 0.6494s, Loss: 0.0404, Metric: 0.1604, Val Loss: 0.0405, Val Metric: 0.1607\n"
     ]
    },
    {
     "name": "stderr",
     "output_type": "stream",
     "text": [
      " 80%|████████  | 8/10 [00:04<00:01,  1.60it/s]"
     ]
    },
    {
     "name": "stdout",
     "output_type": "stream",
     "text": [
      "Epoch [ 8  /10], Time: 0.6276s, Loss: 0.0404, Metric: 0.1604, Val Loss: 0.0407, Val Metric: 0.1610\n"
     ]
    },
    {
     "name": "stderr",
     "output_type": "stream",
     "text": [
      " 90%|█████████ | 9/10 [00:05<00:00,  1.61it/s]"
     ]
    },
    {
     "name": "stdout",
     "output_type": "stream",
     "text": [
      "Epoch [ 9  /10], Time: 0.6076s, Loss: 0.0404, Metric: 0.1604, Val Loss: 0.0405, Val Metric: 0.1608\n"
     ]
    },
    {
     "name": "stderr",
     "output_type": "stream",
     "text": [
      "100%|██████████| 10/10 [00:06<00:00,  1.61it/s]"
     ]
    },
    {
     "name": "stdout",
     "output_type": "stream",
     "text": [
      "Epoch [ 10 /10], Time: 0.6197s, Loss: 0.0404, Metric: 0.1604, Val Loss: 0.0407, Val Metric: 0.1611\n",
      "Total Time: 6.2146s\n"
     ]
    },
    {
     "name": "stderr",
     "output_type": "stream",
     "text": [
      "\n"
     ]
    }
   ],
   "source": [
    "from my_utils import train, plot_fit_history\n",
    "\n",
    "fit_history=train(MODEL, train_loader, val_loader, optimizer, num_epochs=num_epochs)"
   ]
  },
  {
   "cell_type": "code",
   "execution_count": 7,
   "metadata": {},
   "outputs": [
    {
     "name": "stderr",
     "output_type": "stream",
     "text": [
      "100%|██████████| 32/32 [00:00<00:00, 362.84it/s]"
     ]
    },
    {
     "name": "stdout",
     "output_type": "stream",
     "text": [
      "Loss on test set:  0.040621136456727984\n"
     ]
    },
    {
     "name": "stderr",
     "output_type": "stream",
     "text": [
      "\n"
     ]
    }
   ],
   "source": [
    "print(\"Loss on test set: \", MODEL.evaluate(test_loader))"
   ]
  },
  {
   "cell_type": "code",
   "execution_count": 6,
   "metadata": {},
   "outputs": [
    {
     "data": {
      "image/png": "[encoded data removed]",
      "text/plain": [
       "<Figure size 800x400 with 2 Axes>"
      ]
     },
     "metadata": {},
     "output_type": "display_data"
    }
   ],
   "source": [
    "plot_fit_history(fit_history)"
   ]
  },
  {
   "cell_type": "code",
   "execution_count": null,
   "metadata": {},
   "outputs": [],
   "source": []
  }
 ],
 "metadata": {
  "kernelspec": {
   "display_name": "env_py312",
   "language": "python",
   "name": "python3"
  },
  "language_info": {
   "codemirror_mode": {
    "name": "ipython",
    "version": 3
   },
   "file_extension": ".py",
   "mimetype": "text/x-python",
   "name": "python",
   "nbconvert_exporter": "python",
   "pygments_lexer": "ipython3",
   "version": "3.12.5"
  }
 },
 "nbformat": 4,
 "nbformat_minor": 2
}
