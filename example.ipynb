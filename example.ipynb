{
 "cells": [
  {
   "cell_type": "code",
   "execution_count": 1,
   "metadata": {},
   "outputs": [],
   "source": [
    "import numpy as np\n",
    "import matplotlib.pyplot as plt\n",
    "import pandas as pd\n",
    "import torch\n",
    "import torch.nn as nn\n",
    "import torch.optim as optim\n",
    "import time\n",
    "import tqdm\n",
    "import math"
   ]
  },
  {
   "cell_type": "code",
   "execution_count": 8,
   "metadata": {},
   "outputs": [
    {
     "data": {
      "text/plain": [
       "98469"
      ]
     },
     "execution_count": 8,
     "metadata": {},
     "output_type": "execute_result"
    }
   ],
   "source": [
    "from models.RNN import RNN, LSTM, GRU\n",
    "from models.CNN import CNN, TCN\n",
    "from models.MLP import MLP\n",
    "from models.transformer import Transformer, iTransformer, PatchTST\n",
    "from models.Linear import LLinear, DLinear, NLinear\n",
    "from models.stat import Identical, ExponentialMovingAverage, SVR\n",
    "\n",
    "# 超参数\n",
    "num_epochs = 10  # 训练的轮数\n",
    "learning_rate = 0.001 # 学习率\n",
    "num_samples = 10000  # 样本总数\n",
    "input_len = 64  # 输入长度\n",
    "output_len = 16  # 输出长度\n",
    "input_channels = 13  # 输入通道数\n",
    "output_channels = 13  # 输出通道数\n",
    "batch_size = 64  # 批大小\n",
    "\n",
    "# 实例化模型、损失函数、评估函数和优化器\n",
    "MODEL = TCN(input_len=input_len, output_len=output_len, input_channels=input_channels, output_channels=output_channels)\n",
    "loss_func = nn.MSELoss() # MSE，用于拟合\n",
    "metric_func=nn.L1Loss() # MAE，用于评估\n",
    "optimizer = optim.Adam(MODEL.parameters(), lr=learning_rate)\n",
    "sum(p.numel() for p in MODEL.parameters())"
   ]
  },
  {
   "cell_type": "code",
   "execution_count": 9,
   "metadata": {},
   "outputs": [
    {
     "name": "stdout",
     "output_type": "stream",
     "text": [
      "X shape: (10000, 64, 13)\n",
      "Y shape: (10000, 16, 13)\n",
      "Train dataset size: X: (7000, 64, 13); Y: (7000, 16, 13)\n",
      "Val dataset size: X: (1000, 64, 13); Y: (1000, 16, 13)\n",
      "Test dataset size: X: (2000, 64, 13); Y: (2000, 16, 13)\n"
     ]
    }
   ],
   "source": [
    "import mydatasets\n",
    "import random\n",
    "# 加载测试数据集（自己生成的模拟数据）\n",
    "X, Y = mydatasets.load_test_data(id='2',\n",
    "                                input_dim=(num_samples, input_len, input_channels),\n",
    "                                output_dim=(num_samples, output_len, output_channels),\n",
    "                                noise=0.2)\n",
    "print('X shape:', X.shape)\n",
    "print('Y shape:', Y.shape)\n",
    "train_loader, val_loader, test_loader = mydatasets.get_XY_loaders(X, Y, batch_size=batch_size)"
   ]
  },
  {
   "cell_type": "code",
   "execution_count": 10,
   "metadata": {},
   "outputs": [
    {
     "name": "stderr",
     "output_type": "stream",
     "text": [
      " 10%|█         | 1/10 [00:01<00:14,  1.61s/it]"
     ]
    },
    {
     "name": "stdout",
     "output_type": "stream",
     "text": [
      "Epoch [ 1  /10], Time: 1.6118s, Loss: 0.1271, Metric: 0.2306, Val Loss: 0.0404, Val Metric: 0.1604\n"
     ]
    },
    {
     "name": "stderr",
     "output_type": "stream",
     "text": [
      " 20%|██        | 2/10 [00:03<00:12,  1.57s/it]"
     ]
    },
    {
     "name": "stdout",
     "output_type": "stream",
     "text": [
      "Epoch [ 2  /10], Time: 1.5374s, Loss: 0.0405, Metric: 0.1607, Val Loss: 0.0404, Val Metric: 0.1604\n"
     ]
    },
    {
     "name": "stderr",
     "output_type": "stream",
     "text": [
      " 30%|███       | 3/10 [00:04<00:10,  1.57s/it]"
     ]
    },
    {
     "name": "stdout",
     "output_type": "stream",
     "text": [
      "Epoch [ 3  /10], Time: 1.5733s, Loss: 0.0406, Metric: 0.1607, Val Loss: 0.0404, Val Metric: 0.1605\n"
     ]
    },
    {
     "name": "stderr",
     "output_type": "stream",
     "text": [
      " 40%|████      | 4/10 [00:06<00:09,  1.57s/it]"
     ]
    },
    {
     "name": "stdout",
     "output_type": "stream",
     "text": [
      "Epoch [ 4  /10], Time: 1.5657s, Loss: 0.0406, Metric: 0.1607, Val Loss: 0.0404, Val Metric: 0.1605\n"
     ]
    },
    {
     "name": "stderr",
     "output_type": "stream",
     "text": [
      " 50%|█████     | 5/10 [00:07<00:07,  1.56s/it]"
     ]
    },
    {
     "name": "stdout",
     "output_type": "stream",
     "text": [
      "Epoch [ 5  /10], Time: 1.5533s, Loss: 0.0405, Metric: 0.1606, Val Loss: 0.0404, Val Metric: 0.1605\n"
     ]
    },
    {
     "name": "stderr",
     "output_type": "stream",
     "text": [
      " 60%|██████    | 6/10 [00:09<00:06,  1.57s/it]"
     ]
    },
    {
     "name": "stdout",
     "output_type": "stream",
     "text": [
      "Epoch [ 6  /10], Time: 1.5876s, Loss: 0.0405, Metric: 0.1606, Val Loss: 0.0404, Val Metric: 0.1604\n"
     ]
    },
    {
     "name": "stderr",
     "output_type": "stream",
     "text": [
      " 70%|███████   | 7/10 [00:11<00:04,  1.58s/it]"
     ]
    },
    {
     "name": "stdout",
     "output_type": "stream",
     "text": [
      "Epoch [ 7  /10], Time: 1.5954s, Loss: 0.0405, Metric: 0.1605, Val Loss: 0.0405, Val Metric: 0.1607\n"
     ]
    },
    {
     "name": "stderr",
     "output_type": "stream",
     "text": [
      " 80%|████████  | 8/10 [00:12<00:03,  1.58s/it]"
     ]
    },
    {
     "name": "stdout",
     "output_type": "stream",
     "text": [
      "Epoch [ 8  /10], Time: 1.5743s, Loss: 0.0404, Metric: 0.1605, Val Loss: 0.0405, Val Metric: 0.1606\n"
     ]
    },
    {
     "name": "stderr",
     "output_type": "stream",
     "text": [
      " 90%|█████████ | 9/10 [00:14<00:01,  1.57s/it]"
     ]
    },
    {
     "name": "stdout",
     "output_type": "stream",
     "text": [
      "Epoch [ 9  /10], Time: 1.5500s, Loss: 0.0404, Metric: 0.1605, Val Loss: 0.0403, Val Metric: 0.1603\n"
     ]
    },
    {
     "name": "stderr",
     "output_type": "stream",
     "text": [
      "100%|██████████| 10/10 [00:15<00:00,  1.57s/it]"
     ]
    },
    {
     "name": "stdout",
     "output_type": "stream",
     "text": [
      "Epoch [ 10 /10], Time: 1.5691s, Loss: 0.0404, Metric: 0.1604, Val Loss: 0.0404, Val Metric: 0.1603\n",
      "Total Time: 15.7178s\n"
     ]
    },
    {
     "name": "stderr",
     "output_type": "stream",
     "text": [
      "\n"
     ]
    }
   ],
   "source": [
    "from my_utils import train, plot_fit_history\n",
    "\n",
    "fit_history=train(MODEL, train_loader, val_loader, optimizer, num_epochs=num_epochs)"
   ]
  },
  {
   "cell_type": "code",
   "execution_count": 7,
   "metadata": {},
   "outputs": [
    {
     "name": "stderr",
     "output_type": "stream",
     "text": [
      "100%|██████████| 32/32 [00:00<00:00, 562.42it/s]"
     ]
    },
    {
     "name": "stdout",
     "output_type": "stream",
     "text": [
      "Loss on test set:  0.040612711876630785\n"
     ]
    },
    {
     "name": "stderr",
     "output_type": "stream",
     "text": [
      "\n"
     ]
    }
   ],
   "source": [
    "print(\"Loss on test set: \", MODEL.evaluate(test_loader))"
   ]
  },
  {
   "cell_type": "code",
   "execution_count": 6,
   "metadata": {},
   "outputs": [
    {
     "data": {
      "image/png": "[encoded data removed]",
      "text/plain": [
       "<Figure size 800x400 with 2 Axes>"
      ]
     },
     "metadata": {},
     "output_type": "display_data"
    }
   ],
   "source": [
    "plot_fit_history(fit_history)"
   ]
  },
  {
   "cell_type": "code",
   "execution_count": null,
   "metadata": {},
   "outputs": [],
   "source": []
  }
 ],
 "metadata": {
  "kernelspec": {
   "display_name": "env_py312",
   "language": "python",
   "name": "python3"
  },
  "language_info": {
   "codemirror_mode": {
    "name": "ipython",
    "version": 3
   },
   "file_extension": ".py",
   "mimetype": "text/x-python",
   "name": "python",
   "nbconvert_exporter": "python",
   "pygments_lexer": "ipython3",
   "version": "3.12.5"
  }
 },
 "nbformat": 4,
 "nbformat_minor": 2
}
